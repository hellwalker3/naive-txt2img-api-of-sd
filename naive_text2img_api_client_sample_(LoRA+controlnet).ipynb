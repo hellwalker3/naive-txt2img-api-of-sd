{
  "nbformat": 4,
  "nbformat_minor": 0,
  "metadata": {
    "colab": {
      "provenance": [],
      "private_outputs": true,
      "authorship_tag": "ABX9TyPnhHU2QRNsiSsC1ombNBUv",
      "include_colab_link": true
    },
    "kernelspec": {
      "name": "python3",
      "display_name": "Python 3"
    },
    "language_info": {
      "name": "python"
    },
    "gpuClass": "standard"
  },
  "cells": [
    {
      "cell_type": "markdown",
      "metadata": {
        "id": "view-in-github",
        "colab_type": "text"
      },
      "source": [
        "<a href=\"https://colab.research.google.com/github/hellwalker3/naive-txt2img-api-of-sd/blob/main/naive_text2img_api_client_sample_(LoRA%2Bcontrolnet).ipynb\" target=\"_parent\"><img src=\"https://colab.research.google.com/assets/colab-badge.svg\" alt=\"Open In Colab\"/></a>"
      ]
    },
    {
      "cell_type": "code",
      "source": [
        "#@title URL of API server\n",
        "api_url = "
      ],
      "metadata": {
        "id": "q9-iCSx0TVxc"
      },
      "execution_count": null,
      "outputs": []
    },
    {
      "cell_type": "code",
      "execution_count": null,
      "metadata": {
        "id": "rGjoMSKtRJ5k"
      },
      "outputs": [],
      "source": [
        "#@title Image encode and decode functions\n",
        "import io\n",
        "from io import BytesIO\n",
        "import base64\n",
        "from PIL import Image, PngImagePlugin\n",
        "import cv2\n",
        "\n",
        "def encode_array_to_base64(img):\n",
        "    retval, buffer = cv2.imencode('.jpg', img)\n",
        "    b64img = base64.b64encode(buffer).decode(\"utf-8\")\n",
        "    return b64img\n",
        "\n",
        "def decode_base64_to_image(encoding):\n",
        "    if encoding.startswith(\"data:image/\"):\n",
        "        encoding = encoding.split(\";\")[1].split(\",\")[1]\n",
        "    try:\n",
        "        image = Image.open(BytesIO(base64.b64decode(encoding)))\n",
        "        return image\n",
        "    except Exception as err:\n",
        "        raise HTTPException(status_code=500, detail=\"Invalid encoded image\")\n",
        "\n",
        "def encode_pil_to_base64(image):\n",
        "    with io.BytesIO() as output_bytes:\n",
        "        use_metadata = False\n",
        "        metadata = PngImagePlugin.PngInfo()\n",
        "        for key, value in image.info.items():\n",
        "            if isinstance(key, str) and isinstance(value, str):\n",
        "                metadata.add_text(key, value)\n",
        "                use_metadata = True\n",
        "        image.save(output_bytes, format=\"PNG\", pnginfo=(metadata if use_metadata else None), quality=95)\n",
        "\n",
        "        bytes_data = output_bytes.getvalue()\n",
        "    return 'data:image/png;base64,' + str(base64.b64encode(bytes_data), 'utf-8')\n"
      ]
    },
    {
      "cell_type": "code",
      "source": [
        "# @title Reflect arguments passed to txt2img.: Instead of passing the scripts.external_code.ControlNetUnit object, use the format [enabled, module, model, weight, image, guidance_end] for the arguments. When passing controlnet images, use the following format: {'image': encode_arry_to_base64(cv2.imread(img_path)), 'mask': None}\n",
        "def get_api_arguments(prompt, seed, control_pose_path, lora_name):\n",
        "    # sample arguments (LoRA+t2iadapter_keypose)\n",
        "    input_dic={'id_task': 'task(lq2abqt0nqbc7pi)',\n",
        "     'prompt': prompt,\n",
        "     'negative_prompt': \"\"\"\n",
        "     EasyNegative, lowres, bad anatomy, bad hands, text, error, missing fingers, extra digit, fewer digits, cropped, worst quality, low quality, normal quality, jpeg artifacts,signature, watermark, username, blurry, artist name\n",
        "     \"\"\",\n",
        "     'prompt_styles': [],\n",
        "     'steps': 28,\n",
        "     'sampler_index': 0,\n",
        "     'restore_faces': False,\n",
        "     'tiling': False,\n",
        "     'n_iter': 1,\n",
        "     'batch_size': 1,\n",
        "     'cfg_scale': 12,\n",
        "     'seed': seed,\n",
        "     'subseed': -1.0,\n",
        "     'subseed_strength': 0,\n",
        "     'seed_resize_from_h': 0,\n",
        "     'seed_resize_from_w': 0,\n",
        "     'seed_enable_extras': False,\n",
        "     'height': 512,\n",
        "     'width': 512,\n",
        "     'enable_hr': False,\n",
        "     'denoising_strength': 0.7,\n",
        "     'hr_scale': 2,\n",
        "     'hr_upscaler': 'Latent',\n",
        "     'hr_second_pass_steps': 0,\n",
        "     'hr_resize_x': 0,\n",
        "     'hr_resize_y': 0,\n",
        "     'override_settings_texts': []}\n",
        "    input_dic['args'] = (0, True, False, 'LoRA', lora_name, 0.65, 0.65, 'LoRA', 'None', 1, 1, 'LoRA', 'None', 1, 1, 'LoRA', 'None', 1, 1, 'LoRA', 'None', 1, 1, None, 'Refresh models',\n",
        "                        [True,  'none', 't2iadapter_keypose_sd14v1 [ba1d909a]', 1, {'image': encode_array_to_base64(cv2.imread(control_pose_path)), 'mask': None}, 1],\n",
        "                         False, False, 'positive', 'comma', 0, False, False, '', 1, '', 0, '', 0, '', True, False, False, False, 0, None, None, 50)\n",
        "    return input_dic\n"
      ],
      "metadata": {
        "id": "WHAcI_IHTRdY"
      },
      "execution_count": null,
      "outputs": []
    },
    {
      "cell_type": "code",
      "source": [
        "# @title Sample code to generate sequential images for GIF using LoRA and t2iadapter_keypose\n",
        "import requests, os, time\n",
        "\n",
        "start_idx = 1\n",
        "end_idx = 10\n",
        "control_pose_base_path = \"path/to/control_pose_images\"\n",
        "output_base_path = \"path/to/output\"\n",
        "prompt = \"Your prompt text\"\n",
        "seed = 42\n",
        "lora_name = \"your_lora_name\"\n",
        "\n",
        "os.makedirs(output_base_path, exist_ok=True)\n",
        "for i in range(start_idx, end_idx + 1, 1):\n",
        "    start_time = time.time()\n",
        "    input_dic = get_api_arguments(prompt, seed, f'{control_pose_base_path}/img{i}.png', lora_name)\n",
        "\n",
        "    # get generated image\n",
        "    try:\n",
        "        response = requests.post(url=f'{api_url}/sdapi/v1/txt2img2', json=input_dic)\n",
        "        r = response.json()\n",
        "    except:\n",
        "        time.sleep(10)\n",
        "        response = requests.post(url=f'{api_url}/sdapi/v1/txt2img2', json=input_dic)\n",
        "        r = response.json()\n",
        "\n",
        "    im = r['images'][0]\n",
        "    image = Image.open(io.BytesIO(base64.b64decode(im.split(\",\", 1)[1])))\n",
        "\n",
        "   \n",
        "    png_payload = {\n",
        "        \"image\": \"data:image/png;base64,\" + im\n",
        "    }\n",
        "\n",
        "    # get png info\n",
        "    try:\n",
        "        response2 = requests.post(url=f'{api_url}/sdapi/v1/png-info', json=png_payload)\n",
        "        pnginfo = PngImagePlugin.PngInfo()\n",
        "        pnginfo.add_text(\"parameters\", response2.json().get(\"info\"))\n",
        "    except:\n",
        "        time.sleep(10)\n",
        "        response2 = requests.post(url=f'{api_url}/sdapi/v1/png-info', json=png_payload)\n",
        "        pnginfo = PngImagePlugin.PngInfo()\n",
        "        pnginfo.add_text(\"parameters\", response2.json().get(\"info\"))\n",
        "\n",
        "    # save image with png info\n",
        "    image.save(f'{output_base_path}/img{i}.png', pnginfo=pnginfo)\n",
        "    print(i, time.time() - start_time)\n"
      ],
      "metadata": {
        "id": "b__ABc7UTRgL"
      },
      "execution_count": null,
      "outputs": []
    }
  ]
}